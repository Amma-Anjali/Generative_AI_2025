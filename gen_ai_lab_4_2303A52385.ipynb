{
  "nbformat": 4,
  "nbformat_minor": 0,
  "metadata": {
    "colab": {
      "provenance": [],
      "authorship_tag": "ABX9TyMJVRgiTC2tPICJQ8T2poyB",
      "include_colab_link": true
    },
    "kernelspec": {
      "name": "python3",
      "display_name": "Python 3"
    },
    "language_info": {
      "name": "python"
    }
  },
  "cells": [
    {
      "cell_type": "markdown",
      "metadata": {
        "id": "view-in-github",
        "colab_type": "text"
      },
      "source": [
        "<a href=\"https://colab.research.google.com/github/Amma-Anjali/Generative_AI_2025/blob/main/gen_ai_lab_4_2303A52385.ipynb\" target=\"_parent\"><img src=\"https://colab.research.google.com/assets/colab-badge.svg\" alt=\"Open In Colab\"/></a>"
      ]
    },
    {
      "cell_type": "code",
      "execution_count": 1,
      "metadata": {
        "id": "Yp-qb6-jsD6H"
      },
      "outputs": [],
      "source": [
        "# Training data\n",
        "train_x = [[0.1, 0.2, 0.3], [0.2, 0.3, 0.4], [0.3, 0.4, 0.5], [0.5, 0.6, 0.7], [0.1, 0.3, 0.5],\n",
        "           [0.2, 0.4, 0.6], [0.3, 0.5, 0.7], [0.4, 0.6, 0.8], [0.5, 0.7, 0.1]]\n",
        "train_y = [0.14, 0.20, 0.26, 0.38, 0.22, 0.28, 0.34, 0.40, 0.22]\n",
        "\n",
        "test_x = [[0.6, 0.7, 0.8], [0.7, 0.8, 0.9]]\n",
        "test_y = [0.44, 0.50]\n",
        "\n",
        "# Initialize\n",
        "weights = [0.1, 0.1, 0.1]\n",
        "bias = 0.0\n",
        "lr = 0.01\n",
        "\n",
        "# Train\n",
        "for _ in range(1000):\n",
        "    for i in range(len(train_x)):\n",
        "        pred = sum(train_x[i][j] * weights[j] for j in range(3)) + bias\n",
        "        error = pred - train_y[i]\n",
        "        for j in range(3):\n",
        "            weights[j] -= lr * error * train_x[i][j]\n",
        "        bias -= lr * error\n",
        "\n",
        "# Test\n",
        "for i in range(len(test_x)):\n",
        "    pred = sum(test_x[i][j] * weights[j] for j in range(3)) + bias\n",
        "    print(f\"Test {i+1} Prediction: {pred}\")\n",
        "\n",
        "# Predict\n",
        "x1, x2, x3 = map(float, input(\"Enter x1, x2, x3: \").split())\n",
        "pred = sum([x1, x2, x3][j] * weights[j] for j in range(3)) + bias\n",
        "print(\"Your Prediction:\", pred)\n"
      ]
    },
    {
      "cell_type": "code",
      "source": [
        "import math\n",
        "\n",
        "# Sigmoid function\n",
        "def sigmoid(x):\n",
        "    return 1 / (1 + math.exp(-x))\n",
        "\n",
        "# Training data\n",
        "train_x = [[0.1, 0.2, 0.3], [0.2, 0.3, 0.4], [0.3, 0.4, 0.5], [0.5, 0.6, 0.7], [0.1, 0.3, 0.5],\n",
        "           [0.2, 0.4, 0.6], [0.3, 0.5, 0.7], [0.4, 0.6, 0.8], [0.5, 0.7, 0.1]]\n",
        "train_y = [0.5349, 0.5498, 0.5646, 0.5939, 0.5548, 0.5695, 0.5842, 0.5987, 0.5548]\n",
        "\n",
        "test_x = [[0.6, 0.7, 0.8], [0.7, 0.8, 0.9]]\n",
        "test_y = [0.6083, 0.6225]\n",
        "\n",
        "# Initialize\n",
        "weights = [0.1, 0.1, 0.1]\n",
        "bias = 0.0\n",
        "lr = 0.01\n",
        "\n",
        "# Train\n",
        "for _ in range(1000):\n",
        "    for i in range(len(train_x)):\n",
        "        z = sum(train_x[i][j] * weights[j] for j in range(3)) + bias\n",
        "        pred = sigmoid(z)\n",
        "        error = pred - train_y[i]\n",
        "        for j in range(3):\n",
        "            weights[j] -= lr * error * train_x[i][j]\n",
        "        bias -= lr * error\n",
        "\n",
        "# Test\n",
        "for i in range(len(test_x)):\n",
        "    z = sum(test_x[i][j] * weights[j] for j in range(3)) + bias\n",
        "    pred = sigmoid(z)\n",
        "    print(f\"Test {i+1} Prediction: {pred}\")\n",
        "\n",
        "# Predict\n",
        "x1, x2, x3 = map(float, input(\"Enter x1, x2, x3: \").split())\n",
        "z = sum([x1, x2, x3][j] * weights[j] for j in range(3)) + bias\n",
        "pred = sigmoid(z)\n",
        "print(\"Your Prediction:\", pred)"
      ],
      "metadata": {
        "id": "IufvDF_4saO0"
      },
      "execution_count": null,
      "outputs": []
    }
  ]
}