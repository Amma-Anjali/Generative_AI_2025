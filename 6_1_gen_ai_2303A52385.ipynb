{
  "nbformat": 4,
  "nbformat_minor": 0,
  "metadata": {
    "colab": {
      "provenance": [],
      "authorship_tag": "ABX9TyN50aNjahfYUMCCAv/PDjQ3",
      "include_colab_link": true
    },
    "kernelspec": {
      "name": "python3",
      "display_name": "Python 3"
    },
    "language_info": {
      "name": "python"
    }
  },
  "cells": [
    {
      "cell_type": "markdown",
      "metadata": {
        "id": "view-in-github",
        "colab_type": "text"
      },
      "source": [
        "<a href=\"https://colab.research.google.com/github/Amma-Anjali/Generative_AI_2025/blob/main/6_1_gen_ai_2303A52385.ipynb\" target=\"_parent\"><img src=\"https://colab.research.google.com/assets/colab-badge.svg\" alt=\"Open In Colab\"/></a>"
      ]
    },
    {
      "cell_type": "code",
      "execution_count": null,
      "metadata": {
        "id": "YblYUY72vvZ_"
      },
      "outputs": [],
      "source": [
        "import numpy as np\n",
        "import pandas as pd\n",
        "import tensorflow as tf\n",
        "from tensorflow import keras\n",
        "from tensorflow.keras.models import Sequential\n",
        "from tensorflow.keras.layers import Dense\n",
        "from sklearn.model_selection import train_test_split\n",
        "from sklearn.preprocessing import StandardScaler\n",
        "import matplotlib.pyplot as plt\n",
        "\n",
        "# Load dataset\n",
        "url = 'https://drive.google.com/uc?id=1AcdENlVm5dccNyo_vgdMbneX8YVvH5R3'\n",
        "df = pd.read_csv(url)\n",
        "\n",
        "# Check column names\n",
        "print(df.columns)\n",
        "df.columns = df.columns.str.strip()  # Remove any hidden spaces\n",
        "\n",
        "# Data preprocessing\n",
        "if 'Price' in df.columns:\n",
        "    target_column = 'Price'\n",
        "elif 'price' in df.columns:\n",
        "    target_column = 'price'\n",
        "else:\n",
        "    raise KeyError(\"Target column not found. Check dataset column names.\")\n",
        "\n",
        "X = df.drop(columns=[target_column])\n",
        "y = df[target_column]\n",
        "\n",
        "# Identify categorical columns\n",
        "categorical_columns = X.select_dtypes(include=['object']).columns\n",
        "\n",
        "# Convert categorical variables to numeric using one-hot encoding\n",
        "X = pd.get_dummies(X, columns=categorical_columns, drop_first=True)\n",
        "\n",
        "# Split dataset\n",
        "X_train, X_test, y_train, y_test = train_test_split(X, y, test_size=0.2, random_state=42)\n",
        "\n",
        "# Standardize features\n",
        "scaler = StandardScaler()\n",
        "X_train = scaler.fit_transform(X_train)\n",
        "X_test = scaler.transform(X_test)\n",
        "\n",
        "# Build ANN model\n",
        "model = Sequential([\n",
        "    Dense(15, activation='tanh', input_shape=(X_train.shape[1],)),\n",
        "    Dense(20, activation='tanh'),\n",
        "    Dense(15, activation='tanh'),\n",
        "    Dense(1, activation='linear')  # Regression output\n",
        "])\n",
        "\n",
        "# Compile model\n",
        "model.compile(optimizer=keras.optimizers.SGD(), loss='mse', metrics=['mse'])\n",
        "\n",
        "# Train model\n",
        "history = model.fit(X_train, y_train, epochs=100, batch_size=16, validation_data=(X_test, y_test))\n",
        "\n",
        "# Evaluate model\n",
        "train_mse = model.evaluate(X_train, y_train, verbose=0)[1]\n",
        "test_mse = model.evaluate(X_test, y_test, verbose=0)[1]\n",
        "print(f'Training MSE: {train_mse}, Testing MSE: {test_mse}')\n",
        "\n",
        "# Save model\n",
        "model.save('housing_price_model.h5')\n",
        "\n",
        "# Plot training history\n",
        "plt.plot(history.history['mse'], label='Train MSE')\n",
        "plt.plot(history.history['val_mse'], label='Test MSE')\n",
        "plt.xlabel('Epochs')\n",
        "plt.ylabel('MSE')\n",
        "plt.legend()\n",
        "plt.show()\n",
        "\n",
        "# Load and use model\n",
        "def predict_price(features):\n",
        "    loaded_model = keras.models.load_model('housing_price_model.h5')\n",
        "    features = scaler.transform([features])  # Scale input\n",
        "    return loaded_model.predict(features)[0][0]\n",
        "\n",
        "# Example usage\n",
        "# sample_features = X_test[0]  # Replace with actual sample\n",
        "# print(predict_price(sample_features))"
      ]
    }
  ]
}