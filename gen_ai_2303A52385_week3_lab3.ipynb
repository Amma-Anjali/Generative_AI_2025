{
  "nbformat": 4,
  "nbformat_minor": 0,
  "metadata": {
    "colab": {
      "provenance": [],
      "authorship_tag": "ABX9TyNwRI62dFC+QqlEJXNCdIeG",
      "include_colab_link": true
    },
    "kernelspec": {
      "name": "python3",
      "display_name": "Python 3"
    },
    "language_info": {
      "name": "python"
    }
  },
  "cells": [
    {
      "cell_type": "markdown",
      "metadata": {
        "id": "view-in-github",
        "colab_type": "text"
      },
      "source": [
        "<a href=\"https://colab.research.google.com/github/Amma-Anjali/Generative_AI_2025/blob/main/gen_ai_2303A52385_week3_lab3.ipynb\" target=\"_parent\"><img src=\"https://colab.research.google.com/assets/colab-badge.svg\" alt=\"Open In Colab\"/></a>"
      ]
    },
    {
      "cell_type": "code",
      "execution_count": 1,
      "metadata": {
        "id": "QatKPbcBuM7Q"
      },
      "outputs": [],
      "source": [
        "# Problem 1: Find x that minimizes f(x) = 5x^4 + 3x^2 + 10\n",
        "\n",
        "def gradient_descent_f1(learning_rate=0.01, max_iters=1000):\n",
        "    x = 1\n",
        "    for _ in range(max_iters):\n",
        "        grad = 20 * x**3 + 6 * x\n",
        "        x -= learning_rate * grad\n",
        "    return x\n"
      ]
    },
    {
      "cell_type": "code",
      "source": [
        "# Problem 2: Find (x, y) that minimizes g(x, y) = 3x^2 + 5e^(-y) + 10\n",
        "\n",
        "def gradient_descent_f2(learning_rate=0.01, max_iters=1000):\n",
        "    x, y = 1, 1\n",
        "    for _ in range(max_iters):\n",
        "        grad_x = 6 * x\n",
        "        grad_y = -5 * (2.718**(-y))\n",
        "        x -= learning_rate * grad_x\n",
        "        y -= learning_rate * grad_y\n",
        "    return x, y"
      ],
      "metadata": {
        "id": "EnhmFZO8ufH4"
      },
      "execution_count": 2,
      "outputs": []
    },
    {
      "cell_type": "code",
      "source": [
        "# Problem 3: Find x that minimizes sigmoid function z(x) = 1 / (1 + e^-x)\n",
        "\n",
        "def gradient_descent_f3(learning_rate=0.01, max_iters=1000):\n",
        "    x = 1\n",
        "    for _ in range(max_iters):\n",
        "        sig_x = 1 / (1 + (2.718**-x))\n",
        "        grad = sig_x * (1 - sig_x)\n",
        "        x -= learning_rate * grad\n",
        "    return x"
      ],
      "metadata": {
        "id": "CJbL-mEGulRE"
      },
      "execution_count": 3,
      "outputs": []
    },
    {
      "cell_type": "code",
      "source": [
        "# Problem 4: Find optimal M and C for minimizing Square Error SE = (ExpectedOutput - PredictedOutput)^2\n",
        "\n",
        "def gradient_descent_f4(X, Y, learning_rate=0.01, max_iters=1000):\n",
        "    M, C = 0, 0\n",
        "    n = len(X)\n",
        "    for _ in range(max_iters):\n",
        "        error = [(Y[i] - (M * X[i] + C)) for i in range(n)]\n",
        "        grad_M = (-2/n) * sum([X[i] * error[i] for i in range(n)])\n",
        "        grad_C = (-2/n) * sum(error)\n",
        "        M -= learning_rate * grad_M\n",
        "        C -= learning_rate * grad_C\n",
        "    return M, C"
      ],
      "metadata": {
        "id": "3LkmMH89uoY5"
      },
      "execution_count": 4,
      "outputs": []
    },
    {
      "cell_type": "code",
      "source": [
        "# Example usage for Problem 4:\n",
        "X = [1, 2, 3, 4, 5]\n",
        "Y = [2, 4, 6, 8, 10]\n",
        "optimal_M, optimal_C = gradient_descent_f4(X, Y)\n",
        "print(\"Optimal M:\", optimal_M, \"Optimal C:\", optimal_C)"
      ],
      "metadata": {
        "colab": {
          "base_uri": "https://localhost:8080/"
        },
        "id": "0quOvr8Yuraj",
        "outputId": "d7f97bed-ae0c-4b74-e457-cf830e3cb69f"
      },
      "execution_count": 5,
      "outputs": [
        {
          "output_type": "stream",
          "name": "stdout",
          "text": [
            "Optimal M: 1.9951803506719779 Optimal C: 0.017400463340610635\n"
          ]
        }
      ]
    },
    {
      "cell_type": "code",
      "source": [],
      "metadata": {
        "id": "wBXW1Q-ExkuC"
      },
      "execution_count": null,
      "outputs": []
    }
  ]
}