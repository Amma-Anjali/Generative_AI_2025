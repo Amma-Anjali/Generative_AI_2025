{
  "nbformat": 4,
  "nbformat_minor": 0,
  "metadata": {
    "colab": {
      "provenance": [],
      "authorship_tag": "ABX9TyOOInY0e2HPkF/S/j5Pm/kt",
      "include_colab_link": true
    },
    "kernelspec": {
      "name": "python3",
      "display_name": "Python 3"
    },
    "language_info": {
      "name": "python"
    }
  },
  "cells": [
    {
      "cell_type": "markdown",
      "metadata": {
        "id": "view-in-github",
        "colab_type": "text"
      },
      "source": [
        "<a href=\"https://colab.research.google.com/github/Amma-Anjali/Generative_AI_2025/blob/main/gen_ai_2303A52385_week1_lab1.ipynb\" target=\"_parent\"><img src=\"https://colab.research.google.com/assets/colab-badge.svg\" alt=\"Open In Colab\"/></a>"
      ]
    },
    {
      "cell_type": "code",
      "source": [
        "import numpy as np\n",
        "from sklearn.metrics import mean_absolute_error, mean_squared_error, r2_score"
      ],
      "metadata": {
        "id": "nCw2ZebV729Y"
      },
      "execution_count": 1,
      "outputs": []
    },
    {
      "cell_type": "code",
      "source": [
        "y_actual_reg = np.array([20, 30, 40, 50, 60])\n",
        "y_pred_reg = np.array([20.5, 30.3, 40.2, 50.6, 60.7])"
      ],
      "metadata": {
        "id": "x7g2UAmPIbNr"
      },
      "execution_count": 2,
      "outputs": []
    },
    {
      "cell_type": "code",
      "source": [
        "mae_manual = np.mean(np.abs(y_actual_reg - y_pred_reg))\n",
        "mse_manual = np.mean((y_actual_reg - y_pred_reg)**2)\n",
        "rmse_manual = np.sqrt((mse_manual))\n",
        "r2_manual = 1 - (np.sum((y_actual_reg - y_pred_reg)**2) / np.sum((y_actual_reg - np.mean(y_actual_reg))**2))"
      ],
      "metadata": {
        "id": "WxjN6tViPmO-"
      },
      "execution_count": 3,
      "outputs": []
    },
    {
      "cell_type": "code",
      "source": [
        "print(\"Regression Metrics\")\n",
        "print(f\"MAE: Manual = {mae_manual}\")\n",
        "print(f\"MSE: Manual = {mse_manual}\")\n",
        "print(f\"RMSE: Manual = {rmse_manual}\")\n",
        "print(f\"R2 Score: Manual = {r2_manual}\")"
      ],
      "metadata": {
        "colab": {
          "base_uri": "https://localhost:8080/"
        },
        "id": "2lXvBLQHPoIU",
        "outputId": "55c8a485-1593-40d1-dff8-71fdf5ce5d67"
      },
      "execution_count": 4,
      "outputs": [
        {
          "output_type": "stream",
          "name": "stdout",
          "text": [
            "Regression Metrics\n",
            "MAE: Manual = 0.4600000000000016\n",
            "MSE: Manual = 0.24600000000000147\n",
            "RMSE: Manual = 0.49598387070549127\n",
            "R2 Score: Manual = 0.99877\n"
          ]
        }
      ]
    },
    {
      "cell_type": "code",
      "source": [
        "mae_lib = mean_absolute_error(y_actual_reg, y_pred_reg)\n",
        "mse_lib = mean_squared_error(y_actual_reg, y_pred_reg)\n",
        "rmse_lib = np.sqrt(mse_lib)\n",
        "r2_lib = r2_score(y_actual_reg, y_pred_reg)"
      ],
      "metadata": {
        "id": "GQNjHaIsPqRo"
      },
      "execution_count": 5,
      "outputs": []
    },
    {
      "cell_type": "code",
      "source": [
        "print(\"Regression Metrics\")\n",
        "print(f\"MAE: Sklearn = {mae_lib}\")\n",
        "print(f\"MSE: Sklearn = {mse_lib}\")\n",
        "print(f\"RMSE: Sklearn = {rmse_lib}\")\n",
        "print(f\"R2 Score: Sklearn = {r2_lib}\")"
      ],
      "metadata": {
        "colab": {
          "base_uri": "https://localhost:8080/"
        },
        "id": "EOcOJ6B4PsNA",
        "outputId": "b3606fad-b73d-4be7-a9e6-cd5bf29032ae"
      },
      "execution_count": 6,
      "outputs": [
        {
          "output_type": "stream",
          "name": "stdout",
          "text": [
            "Regression Metrics\n",
            "MAE: Sklearn = 0.4600000000000016\n",
            "MSE: Sklearn = 0.24600000000000147\n",
            "RMSE: Sklearn = 0.49598387070549127\n",
            "R2 Score: Sklearn = 0.99877\n"
          ]
        }
      ]
    },
    {
      "cell_type": "code",
      "source": [],
      "metadata": {
        "id": "hdBYNlIjU7r0"
      },
      "execution_count": null,
      "outputs": []
    },
    {
      "cell_type": "code",
      "source": [
        "from sklearn.metrics import accuracy_score, precision_score, recall_score, f1_score, confusion_matrix, classification_report"
      ],
      "metadata": {
        "id": "kBQmquR4U74G"
      },
      "execution_count": 7,
      "outputs": []
    },
    {
      "cell_type": "code",
      "source": [
        "y_actual_cls = np.array([0, 0, 0, 0, 0,\n",
        "                         1, 1, 1, 1, 1,\n",
        "                         2, 2, 2, 2, 2])\n",
        "\n",
        "y_pred_cls = np.array([0, 0, 1, 2, 0,\n",
        "                        0, 1, 0, 2, 0,\n",
        "                        1, 2, 2, 1, 2])"
      ],
      "metadata": {
        "id": "9_9aaqdxVBAg"
      },
      "execution_count": 8,
      "outputs": []
    },
    {
      "cell_type": "code",
      "source": [
        "accuracy = accuracy_score(y_actual_cls, y_pred_cls)\n",
        "precision = precision_score(y_actual_cls, y_pred_cls, average = \"macro\")\n",
        "recall = recall_score(y_actual_cls, y_pred_cls, average = \"macro\")\n",
        "f1 = f1_score(y_actual_cls, y_pred_cls, average = \"macro\")\n",
        "conf_matrix = confusion_matrix(y_actual_cls, y_pred_cls)"
      ],
      "metadata": {
        "id": "O5v7tgIVVDX3"
      },
      "execution_count": 9,
      "outputs": []
    },
    {
      "cell_type": "code",
      "source": [
        "print(\"\\nClassification Metrics\")\n",
        "print(f\"Accuracy : {accuracy:.4f}\")\n",
        "print(f\"Precision: {precision:.4f}\")\n",
        "print(f\"Recall: {recall:.4f}\")\n",
        "print(f\"F1-Score: {f1:.4f}\")\n",
        "print(\"Confusion Matrix:\")\n",
        "print(conf_matrix)"
      ],
      "metadata": {
        "colab": {
          "base_uri": "https://localhost:8080/"
        },
        "id": "yJNeQR7CVFjf",
        "outputId": "0a85e3af-eb1c-4064-f5f9-d7faf283a6ca"
      },
      "execution_count": 10,
      "outputs": [
        {
          "output_type": "stream",
          "name": "stdout",
          "text": [
            "\n",
            "Classification Metrics\n",
            "Accuracy : 0.4667\n",
            "Precision: 0.4500\n",
            "Recall: 0.4667\n",
            "F1-Score: 0.4559\n",
            "Confusion Matrix:\n",
            "[[3 1 1]\n",
            " [3 1 1]\n",
            " [0 2 3]]\n"
          ]
        }
      ]
    },
    {
      "cell_type": "code",
      "source": [
        "print(\"\\nClassification Report:\")\n",
        "print(classification_report(y_actual_cls, y_pred_cls))"
      ],
      "metadata": {
        "colab": {
          "base_uri": "https://localhost:8080/"
        },
        "id": "b3A2QQR3VmK7",
        "outputId": "2ca883c7-18e2-4616-efd0-9824ddfdaf5c"
      },
      "execution_count": 11,
      "outputs": [
        {
          "output_type": "stream",
          "name": "stdout",
          "text": [
            "\n",
            "Classification Report:\n",
            "              precision    recall  f1-score   support\n",
            "\n",
            "           0       0.50      0.60      0.55         5\n",
            "           1       0.25      0.20      0.22         5\n",
            "           2       0.60      0.60      0.60         5\n",
            "\n",
            "    accuracy                           0.47        15\n",
            "   macro avg       0.45      0.47      0.46        15\n",
            "weighted avg       0.45      0.47      0.46        15\n",
            "\n"
          ]
        }
      ]
    }
  ]
}